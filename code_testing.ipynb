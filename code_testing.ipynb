{
 "cells": [
  {
   "cell_type": "code",
   "execution_count": null,
   "metadata": {},
   "outputs": [],
   "source": [
    "%load_ext autoreload\n",
    "%autoreload 2\n",
    "\n",
    "import classes \n",
    "atmosphere = classes.Atmo()"
   ]
  },
  {
   "cell_type": "code",
   "execution_count": null,
   "metadata": {},
   "outputs": [],
   "source": [
    "# def plot_data(filter, ref, dark, wv1, wv2, label, color, ls):\n",
    "#     wv_AA = wv.to(u.AA)\n",
    "#     trans_med = calc_transmission(filter, ref, dark)\n",
    "#     index1 = np.abs(wv_AA.value - wv1).argmin()\n",
    "#     index2 = np.abs(wv_AA.value - wv2).argmin()\n",
    "#     plt.plot(wv_AA[index1:index2], trans_med[index1:index2], label=label, color=color, linestyle=ls)"
   ]
  },
  {
   "cell_type": "code",
   "execution_count": 210,
   "metadata": {},
   "outputs": [],
   "source": [
    "# class Data:\n",
    "#     def __init__(self, dqe, )\n",
    "\n",
    "import matplotlib.pyplot as plt\n",
    "import numpy as np\n",
    "import astropy.units as u\n",
    "\n",
    "class Plot:\n",
    "    def __init__(self, xminIndex, xmaxIndex):\n",
    "        self.xminIndex = xminIndex\n",
    "        self.xmaxIndex = xmaxIndex\n",
    "\n",
    "    def xrange(self, xminIndex, xmaxIndex):\n",
    "        self.xmin_index = np.abs(self.wavelength.to(u.AA).value - self.xmin).argmin()\n",
    "        self.xmax_index = np.abs(self.wavelength.to(u.AA).value - self.xmax).argmin()\n",
    "\n",
    "    # def plot(self):\n",
    "    #     plt.plot(self.wavelength.to(u.AA)[self.xmin_index: self.xmax_index], self.y[self.xmin_index: self.xmax_index], color = self.color , label = self.label, ls = self.ls)\n",
    "\n",
    "        "
   ]
  },
  {
   "cell_type": "code",
   "execution_count": 213,
   "metadata": {},
   "outputs": [
    {
     "data": {
      "text/plain": [
       "array([-491.15508309, -412.99101124, -440.69382643, -362.05612084,\n",
       "       -298.96342231, -194.17131374, -111.34886137,    9.38003046,\n",
       "        149.06156518,  288.62196174,  428.09006254,  542.04679527,\n",
       "        655.99363916,  789.41740697,  910.21688582, 1037.43349557,\n",
       "       1177.16579295, 1316.85771094, 1456.51847911, 1596.14348269,\n",
       "       1735.7915602 , 1875.45578947, 2015.06233389, 2154.64811178,\n",
       "       2294.25119511, 2433.88773565, 2573.49081899, 2713.09274863,\n",
       "       2852.70160045, 2992.31160596, 3131.91699669, 3271.53853918,\n",
       "       3411.13585403, 3550.71701713, 3690.29356543, 3829.87011374,\n",
       "       3969.4282029 , 4108.97936988, 4248.51323141, 4388.02978748,\n",
       "       4527.52442332, 4666.99598521, 4806.44562687, 4945.8721946 ,\n",
       "       5085.2676125 , 5224.63534169, 5363.97192106, 5496.93836346,\n",
       "       5617.23106175, 5731.17067215, 5838.76618387, 5940.02182713,\n",
       "       6041.26319339, 6142.50773232, 6243.74433958, 6344.97936051,\n",
       "       6446.21914044, 6547.45892037, 6648.71139097, 6756.3042588 ,\n",
       "       6870.24386919, 6990.52556891, 7123.50724011, 7262.85189535,\n",
       "       7402.2240855 , 7484.50272365])"
      ]
     },
     "execution_count": 213,
     "metadata": {},
     "output_type": "execute_result"
    }
   ],
   "source": [
    "import os\n",
    "import pandas as pd\n",
    "import matplotlib.pyplot as plt\n",
    "import numpy as np\n",
    "import astropy.units as u\n",
    "import matplotlib.patches as patches\n",
    "from scipy.interpolate import make_interp_spline\n",
    "\n",
    "def set_file_path(func):\n",
    "    def wrapper(self, file_name, *args, **kwargs):\n",
    "        data = \"/Users/jacobvider/Documents/research/hamden/superlotis/throughput/\"\n",
    "        self.file_path = os.path.join(data, file_name)\n",
    "        return func(self, file_name, *args, **kwargs)\n",
    "    return wrapper\n",
    "\n",
    "def readin_csv(func):\n",
    "    def wrapper(self, *args, **kwargs):\n",
    "        if not hasattr(self, 'df'):\n",
    "            self.df = pd.read_csv(self.file_path, names=self.column_names, header=None)\n",
    "        return func(self, *args, **kwargs)\n",
    "    return wrapper\n",
    "\n",
    "def readin_dat(func):\n",
    "    def wrapper(self, *args, **kwargs):\n",
    "        file_path = self.file_path\n",
    "        with open(file_path, 'r') as file:\n",
    "            file.readline()  # Skip first line\n",
    "            file.readline()  # Skip second line\n",
    "            atmo = np.loadtxt(file, dtype=float)\n",
    "        res = func(self, atmo, *args, **kwargs)\n",
    "        return res\n",
    "    return wrapper\n",
    "\n",
    "class Atmo:\n",
    "    def __init__(self, file_name = None):\n",
    "        if file_name:\n",
    "            self.set_file_path(file_name)\n",
    "\n",
    "class DQE:\n",
    "    def __init__(self, file_name=None, column_names=[\"x\", \"y\"]):\n",
    "        self.column_names = column_names\n",
    "        self.file_path = None\n",
    "        self.color = 'black'\n",
    "        self.ls = '-'\n",
    "        self.label = None\n",
    "\n",
    "        # self.xmin_index = None\n",
    "        # self.xmax_index = None\n",
    "        if file_name:\n",
    "            self.set_file_path(file_name)\n",
    "\n",
    "    @set_file_path\n",
    "    def set_file_path(self, file_name):\n",
    "        pass\n",
    "\n",
    "    @readin_csv\n",
    "    def load_values(self):\n",
    "        self.wavelength = self.df[\"x\"].values * u.nm\n",
    "        self.y = self.df[\"y\"].values\n",
    "\n",
    "    def interp_qe(self):\n",
    "        self.load_values()\n",
    "        x = self.wavelength.value\n",
    "        y = self.y\n",
    "        self.xrange = np.linspace(np.min(x), np.max(x), 150)\n",
    "        self.yinterp = np.interp(self.xrange, x, y)\n",
    "\n",
    "    def plot(self):\n",
    "        # fig, ax = plt.subplots(figsize=(12,6))\n",
    "\n",
    "        self.xmin_index = np.abs(self.wavelength.to(u.AA).value - self.xmin).argmin()\n",
    "        self.xmax_index = np.abs(self.wavelength.to(u.AA).value - self.xmax).argmin()\n",
    "        \n",
    "        plt.plot(self.wavelength.to(u.AA)[self.xmin_index: self.xmax_index], self.y[self.xmin_index: self.xmax_index], color = self.color , label = self.label, ls = self.ls)\n",
    "\n",
    "\n",
    "BUV_file = \"dqe/BUV_extracted.csv\"\n",
    "BUV = DQE(BUV_file)\n",
    "BUV.load_values()\n",
    "BUV.interp_qe()\n",
    "BUV.yinterp\n",
    "BUV.xmin = 3000\n",
    "BUV.xmax = 1000\n",
    "BUV.wavelength.to(u.AA).value - BUV.xmin\n",
    "# xmin_index = np.abs(BUV.wavelength.to(u.AA).value - BUV.xmin).argmin()\n",
    "# xmax_index = np.abs(BUV.wavelength.to(u.AA).value - BUV.xmax).argmin()\n",
    "\n",
    "# plt.scatter(BUV.xrange[300:400], BUV.yinterp[300:400], color = 'blue')\n",
    "# plt.scatter(BUV.wavelength[300:400], BUV.y[300:400], color = 'red')\n",
    "\n",
    "\n",
    "\n"
   ]
  },
  {
   "cell_type": "code",
   "execution_count": 219,
   "metadata": {},
   "outputs": [
    {
     "name": "stdout",
     "output_type": "stream",
     "text": [
      "[ 293.98640288  307.96320907  318.13124675  324.19370432  327.70838399\n",
      "  330.40489648  334.11780434  336.69487048  343.07424115  350.71909774\n",
      "  357.0923497   362.41171243  367.02933031  369.87533927  372.44139173\n",
      "  375.00839599  377.70503539  381.4188739   384.88033738  388.46314477\n",
      "  392.30957957  395.63897553  399.34993748  403.18949817  407.03032793\n",
      "  412.77848003  419.78952251  428.06888213  438.24858826  450.33282277\n",
      "  463.68286009  477.66358886  491.00424663  508.14668153  522.11379667\n",
      "  536.07802758  550.04133552  564.00360514  577.96702845  591.92952881\n",
      "  605.89202917  619.71268891  633.81829895  647.78322207  661.74653002\n",
      "  675.70672298  689.66333948  703.61522583  717.56226665  731.50907673\n",
      "  745.45381016  759.39531323  773.33693168  787.27358923  800.5724601\n",
      "  811.96702747  822.09179863  831.58235381  840.43826243  848.65827808\n",
      "  856.24433459  863.82954505  871.41517854  878.99996598  885.95170075\n",
      "  892.90237796  899.85203992  906.16793007  912.48331259  918.79818749\n",
      "  925.11433145  931.43047542  937.74864989  944.06606292  951.01674013\n",
      "  958.60068153  966.18652652  974.405817    983.26027525  992.74983331\n",
      " 1003.50758663 1015.53443114 1023.76597717] nm\n"
     ]
    },
    {
     "data": {
      "image/png": "[encoded data removed]",
      "text/plain": [
       "<Figure size 1200x600 with 1 Axes>"
      ]
     },
     "metadata": {},
     "output_type": "display_data"
    }
   ],
   "source": [
    "fig, ax = plt.subplots(figsize = (12,6))\n",
    "BUV_file = \"dqe/BUV_extracted.csv\"\n",
    "BUV = DQE(BUV_file)\n",
    "BUV.color = 'red'\n",
    "BUV.label = 'BUV'\n",
    "BUV.ls = '-'\n",
    "BUV.xmin = 3000\n",
    "BUV.xmax = 10000\n",
    "BUV.load_values()\n",
    "BUV.plot()\n",
    "\n",
    "optical_file = \"dqe/optical_extracted.csv\"\n",
    "optical = DQE(optical_file)\n",
    "optical.color = 'blue'\n",
    "optical.label = 'optical'\n",
    "optical.ls = '-'\n",
    "optical.xmin = 3010\n",
    "optical.xmax = 10000\n",
    "optical.load_values()\n",
    "optical.plot()\n",
    "\n",
    "rect = patches.Rectangle((3000,0),1000,100, linewidth = 1, edgecolor='none', facecolor='yellow', alpha = 1)\n",
    "ax.add_patch(rect)\n",
    "\n",
    "ax.set_xlabel(\"Wavelength(\\u00C5)\")\n",
    "ax.set_ylabel(\"Transmission(%)\")\n",
    "ax.legend()\n",
    "fig.savefig('plots/QE.png')\n",
    "\n",
    "print(optical.wavelength)"
   ]
  },
  {
   "cell_type": "code",
   "execution_count": 182,
   "metadata": {},
   "outputs": [
    {
     "data": {
      "text/plain": [
       "array([ 1.71227553,  2.2856649 ,  2.85905426,  3.45323112,  4.16867157,\n",
       "        5.02071869,  7.67887678, 11.11977016, 15.82423495, 21.04536481,\n",
       "       23.54557741, 25.42689281, 27.37151129, 29.50876529, 32.28319838,\n",
       "       35.09509421, 40.59630139, 45.96299862, 50.38645019, 54.72886153,\n",
       "       59.23793801, 63.39830512, 67.30768138, 71.36438197, 74.49402353,\n",
       "       76.82190561, 78.79210005, 80.51457295, 81.94304097, 83.19451378,\n",
       "       84.3580821 , 85.4485019 , 86.521814  , 87.39446141, 88.26710882,\n",
       "       89.08047077, 89.78510602, 90.48974126, 91.11429994, 91.65826836,\n",
       "       92.20223679, 92.53820782, 92.81366179, 93.08911576, 93.3572549 ,\n",
       "       93.6060737 , 93.85489249, 94.06281847, 94.21495189, 94.36708532,\n",
       "       94.50152117, 94.62270684, 94.74389251, 94.83997399, 94.92633855,\n",
       "       95.0127031 , 95.13273758, 95.25779194, 95.38224821, 95.47635123,\n",
       "       95.57045426, 95.66455728, 95.75866031, 95.85276333, 95.93819462,\n",
       "       96.00501444, 96.07183426, 96.1863475 , 96.34931167, 96.51227584,\n",
       "       96.68286572, 96.85820728, 97.03354883, 97.16746844, 97.28865411,\n",
       "       97.40983978, 97.43553602, 97.4522428 , 97.46130593, 97.35799796,\n",
       "       97.25468999, 97.11737   , 96.85523833, 96.59310667, 96.27145595,\n",
       "       95.84651514, 95.42157433, 94.99261617, 94.55991973, 94.12722328,\n",
       "       93.64772093, 93.14521219, 92.64270345, 92.0507485 , 91.43960152,\n",
       "       90.82845454, 90.22109866, 89.61383248, 88.98479687, 88.2105981 ,\n",
       "       87.43639932, 86.6189558 , 85.69299117, 84.76702654, 83.73630483,\n",
       "       82.6264581 , 81.47450405, 80.19155718, 78.89625761, 77.54315167,\n",
       "       76.16548216, 74.70932749, 73.17133361, 71.52496434, 69.80171262,\n",
       "       68.04245045, 66.24140294, 64.45751362, 62.6771446 , 60.84987524,\n",
       "       58.98541696, 57.08153468, 55.11595623, 53.10100546, 51.02243213,\n",
       "       48.83997246, 46.62007464, 44.37291364, 42.15598073, 39.99281307,\n",
       "       37.82964542, 35.79535013, 33.75151923, 31.71095067, 29.74537222,\n",
       "       27.85305536, 26.00930975, 24.24758954, 22.54172987, 20.86594974,\n",
       "       19.33283962, 17.8350177 , 16.43255658, 15.07251772, 13.79760225,\n",
       "       12.54115577, 11.40186151, 10.26256725,  9.22624379,  8.23823368])"
      ]
     },
     "execution_count": 182,
     "metadata": {},
     "output_type": "execute_result"
    }
   ],
   "source": [
    "from scipy.interpolate import make_interp_spline\n",
    "optical_file = \"dqe/optical_extracted.csv\"\n",
    "optical = DQE(optical_file)\n",
    "optical.load_values()\n",
    "b = make_interp_spline(optical.wavelength, optical.y)\n",
    "x = optical.wavelength.value\n",
    "y = optical.y\n",
    "xrange = np.linspace(np.min(x), np.max(x), 150)\n",
    "yinterp = np.interp(xrange, x, y)\n",
    "\n"
   ]
  },
  {
   "cell_type": "code",
   "execution_count": null,
   "metadata": {},
   "outputs": [],
   "source": [
    "## spline interpolation vs polynominal interpolation?\n"
   ]
  },
  {
   "cell_type": "markdown",
   "metadata": {},
   "source": [
    "class Atmo\n",
    "class Target\n",
    "class Coating\n",
    "class Filters\n",
    "class DQE\n",
    "\n",
    "class Atmo(object):\n",
    "\n",
    "    def __init__(self,filename):\n",
    "        self.filename = filename\n",
    "\n",
    "    def load_data(self):\n",
    "        self.data = pd.read_csv(self.filename, comment='#', header=None, delim_whitespace=True)\n",
    "        self.data.columns = ['x', 'y']\n",
    "        self.wavelength = self.df[\"x\"].values * u.nm\n",
    "        self.y = self.df[\"y\"].values\n",
    "\n",
    "    def create_interpolator(self, method=\"linear\"):\n",
    "        self.interpolation_function = sp.interpolate.interp1d(x=self.x, y=self.y, method=method)\n",
    "\n",
    "    def interpolate(self, wavelengths):\n",
    "        return self.interpolation_function(wavelengths)\n",
    "\n"
   ]
  },
  {
   "cell_type": "code",
   "execution_count": 232,
   "metadata": {},
   "outputs": [],
   "source": [
    "import pandas as pd\n",
    "import scipy as sp\n",
    "import astropy.units as u\n",
    "\n",
    "class Atmo(object):\n",
    "\n",
    "    def __init__(self,filename):\n",
    "        self.filename = filename\n",
    "        self.data = pd.read_csv(self.filename, comment='#', header=None, delim_whitespace=True)\n",
    "        self.data.columns = ['x', 'y']\n",
    "        self.wavelength = self.data[\"x\"].values * u.AA\n",
    "        self.y = self.data[\"y\"].values\n",
    "        self.create_interpolator(method = \"linear\")\n",
    "\n",
    "    def create_interpolator(self, method):\n",
    "        self.interpolation_function = sp.interpolate.interp1d(x=self.wavelength, y=self.y, kind=method)\n",
    "\n",
    "    def interpolate(self, wavelengths):\n",
    "        return self.interpolation_function(wavelengths)\n",
    "    \n",
    "    \n",
    "atmo_apo = Atmo(\"/Users/jacobvider/Documents/research/hamden/superlotis/throughput/extinction_sites/apo.dat\")\n",
    "wv = np.linspace(3005,10000, 10000)\n",
    "atmo_apo.interpolate(wv),wv\n"
   ]
  },
  {
   "cell_type": "code",
   "execution_count": 242,
   "metadata": {},
   "outputs": [
    {
     "data": {
      "text/plain": [
       "(array([2.50872   , 2.50031844, 2.49191689, ..., 0.04466217, 0.04466194,\n",
       "        0.0446617 ]),\n",
       " array([ 3005.        ,  3005.69956996,  3006.39913991, ...,\n",
       "         9998.60086009,  9999.30043004, 10000.        ]))"
      ]
     },
     "execution_count": 242,
     "metadata": {},
     "output_type": "execute_result"
    }
   ],
   "source": [
    "\n"
   ]
  },
  {
   "cell_type": "markdown",
   "metadata": {},
   "source": [
    "class Atmo:\n",
    "    def __init__:\n",
    "        self.filename = None\n",
    "\n",
    "    def load_data(self):\n",
    "        df = pd.read_csv(self.filename, comment='#', header=None, delim_whitespace=True)\n",
    "        \n"
   ]
  },
  {
   "cell_type": "markdown",
   "metadata": {},
   "source": [
    "class Transmission(filename, )\n",
    "\n",
    "def __init__:\n",
    "#variables\n",
    "\n",
    "def interpolator:\n",
    "\n",
    "\n",
    "class Spectrum\n"
   ]
  },
  {
   "cell_type": "markdown",
   "metadata": {},
   "source": [
    "class ExtractData\n",
    "    def extract_csv\n",
    "\n",
    "    def extract_flm\n",
    "\n",
    "    def \n",
    "\n",
    "class Interpolate\n",
    "\n",
    "class PlotData\n",
    "\n"
   ]
  }
 ],
 "metadata": {
  "kernelspec": {
   "display_name": "base",
   "language": "python",
   "name": "python3"
  },
  "language_info": {
   "codemirror_mode": {
    "name": "ipython",
    "version": 3
   },
   "file_extension": ".py",
   "mimetype": "text/x-python",
   "name": "python",
   "nbconvert_exporter": "python",
   "pygments_lexer": "ipython3",
   "version": "3.11.5"
  }
 },
 "nbformat": 4,
 "nbformat_minor": 2
}
