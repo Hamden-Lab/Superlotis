{
 "cells": [
  {
   "cell_type": "code",
   "execution_count": null,
   "metadata": {},
   "outputs": [],
   "source": [
    "%load_ext autoreload\n",
    "%autoreload 2\n",
    "\n",
    "import classes \n",
    "atmosphere = classes.Atmo()"
   ]
  },
  {
   "cell_type": "code",
   "execution_count": null,
   "metadata": {},
   "outputs": [],
   "source": [
    "# def plot_data(filter, ref, dark, wv1, wv2, label, color, ls):\n",
    "#     wv_AA = wv.to(u.AA)\n",
    "#     trans_med = calc_transmission(filter, ref, dark)\n",
    "#     index1 = np.abs(wv_AA.value - wv1).argmin()\n",
    "#     index2 = np.abs(wv_AA.value - wv2).argmin()\n",
    "#     plt.plot(wv_AA[index1:index2], trans_med[index1:index2], label=label, color=color, linestyle=ls)"
   ]
  },
  {
   "cell_type": "code",
   "execution_count": 210,
   "metadata": {},
   "outputs": [],
   "source": [
    "# class Data:\n",
    "#     def __init__(self, dqe, )\n",
    "\n",
    "import matplotlib.pyplot as plt\n",
    "import numpy as np\n",
    "import astropy.units as u\n",
    "\n",
    "class Plot:\n",
    "    def __init__(self, xminIndex, xmaxIndex):\n",
    "        self.xminIndex = xminIndex\n",
    "        self.xmaxIndex = xmaxIndex\n",
    "\n",
    "    def xrange(self, xminIndex, xmaxIndex):\n",
    "        self.xmin_index = np.abs(self.wavelength.to(u.AA).value - self.xmin).argmin()\n",
    "        self.xmax_index = np.abs(self.wavelength.to(u.AA).value - self.xmax).argmin()\n",
    "\n",
    "    # def plot(self):\n",
    "    #     plt.plot(self.wavelength.to(u.AA)[self.xmin_index: self.xmax_index], self.y[self.xmin_index: self.xmax_index], color = self.color , label = self.label, ls = self.ls)\n",
    "\n",
    "        "
   ]
  },
  {
   "cell_type": "code",
   "execution_count": 213,
   "metadata": {},
   "outputs": [
    {
     "data": {
      "text/plain": [
       "array([-491.15508309, -412.99101124, -440.69382643, -362.05612084,\n",
       "       -298.96342231, -194.17131374, -111.34886137,    9.38003046,\n",
       "        149.06156518,  288.62196174,  428.09006254,  542.04679527,\n",
       "        655.99363916,  789.41740697,  910.21688582, 1037.43349557,\n",
       "       1177.16579295, 1316.85771094, 1456.51847911, 1596.14348269,\n",
       "       1735.7915602 , 1875.45578947, 2015.06233389, 2154.64811178,\n",
       "       2294.25119511, 2433.88773565, 2573.49081899, 2713.09274863,\n",
       "       2852.70160045, 2992.31160596, 3131.91699669, 3271.53853918,\n",
       "       3411.13585403, 3550.71701713, 3690.29356543, 3829.87011374,\n",
       "       3969.4282029 , 4108.97936988, 4248.51323141, 4388.02978748,\n",
       "       4527.52442332, 4666.99598521, 4806.44562687, 4945.8721946 ,\n",
       "       5085.2676125 , 5224.63534169, 5363.97192106, 5496.93836346,\n",
       "       5617.23106175, 5731.17067215, 5838.76618387, 5940.02182713,\n",
       "       6041.26319339, 6142.50773232, 6243.74433958, 6344.97936051,\n",
       "       6446.21914044, 6547.45892037, 6648.71139097, 6756.3042588 ,\n",
       "       6870.24386919, 6990.52556891, 7123.50724011, 7262.85189535,\n",
       "       7402.2240855 , 7484.50272365])"
      ]
     },
     "execution_count": 213,
     "metadata": {},
     "output_type": "execute_result"
    }
   ],
   "source": [
    "import os\n",
    "import pandas as pd\n",
    "import matplotlib.pyplot as plt\n",
    "import numpy as np\n",
    "import astropy.units as u\n",
    "import matplotlib.patches as patches\n",
    "from scipy.interpolate import make_interp_spline\n",
    "\n",
    "def set_file_path(func):\n",
    "    def wrapper(self, file_name, *args, **kwargs):\n",
    "        data = \"/Users/jacobvider/Documents/research/hamden/superlotis/throughput/\"\n",
    "        self.file_path = os.path.join(data, file_name)\n",
    "        return func(self, file_name, *args, **kwargs)\n",
    "    return wrapper\n",
    "\n",
    "def readin_csv(func):\n",
    "    def wrapper(self, *args, **kwargs):\n",
    "        if not hasattr(self, 'df'):\n",
    "            self.df = pd.read_csv(self.file_path, names=self.column_names, header=None)\n",
    "        return func(self, *args, **kwargs)\n",
    "    return wrapper\n",
    "\n",
    "def readin_dat(func):\n",
    "    def wrapper(self, *args, **kwargs):\n",
    "        file_path = self.file_path\n",
    "        with open(file_path, 'r') as file:\n",
    "            file.readline()  # Skip first line\n",
    "            file.readline()  # Skip second line\n",
    "            atmo = np.loadtxt(file, dtype=float)\n",
    "        res = func(self, atmo, *args, **kwargs)\n",
    "        return res\n",
    "    return wrapper\n",
    "\n",
    "class Atmo:\n",
    "    def __init__(self, file_name = None):\n",
    "        if file_name:\n",
    "            self.set_file_path(file_name)\n",
    "\n",
    "class DQE:\n",
    "    def __init__(self, file_name=None, column_names=[\"x\", \"y\"]):\n",
    "        self.column_names = column_names\n",
    "        self.file_path = None\n",
    "        self.color = 'black'\n",
    "        self.ls = '-'\n",
    "        self.label = None\n",
    "\n",
    "        # self.xmin_index = None\n",
    "        # self.xmax_index = None\n",
    "        if file_name:\n",
    "            self.set_file_path(file_name)\n",
    "\n",
    "    @set_file_path\n",
    "    def set_file_path(self, file_name):\n",
    "        pass\n",
    "\n",
    "    @readin_csv\n",
    "    def load_values(self):\n",
    "        self.wavelength = self.df[\"x\"].values * u.nm\n",
    "        self.y = self.df[\"y\"].values\n",
    "\n",
    "    def interp_qe(self):\n",
    "        self.load_values()\n",
    "        x = self.wavelength.value\n",
    "        y = self.y\n",
    "        self.xrange = np.linspace(np.min(x), np.max(x), 150)\n",
    "        self.yinterp = np.interp(self.xrange, x, y)\n",
    "\n",
    "    def plot(self):\n",
    "        # fig, ax = plt.subplots(figsize=(12,6))\n",
    "\n",
    "        self.xmin_index = np.abs(self.wavelength.to(u.AA).value - self.xmin).argmin()\n",
    "        self.xmax_index = np.abs(self.wavelength.to(u.AA).value - self.xmax).argmin()\n",
    "        \n",
    "        plt.plot(self.wavelength.to(u.AA)[self.xmin_index: self.xmax_index], self.y[self.xmin_index: self.xmax_index], color = self.color , label = self.label, ls = self.ls)\n",
    "\n",
    "\n",
    "BUV_file = \"dqe/BUV_extracted.csv\"\n",
    "BUV = DQE(BUV_file)\n",
    "BUV.load_values()\n",
    "BUV.interp_qe()\n",
    "BUV.yinterp\n",
    "BUV.xmin = 3000\n",
    "BUV.xmax = 1000\n",
    "BUV.wavelength.to(u.AA).value - BUV.xmin\n",
    "# xmin_index = np.abs(BUV.wavelength.to(u.AA).value - BUV.xmin).argmin()\n",
    "# xmax_index = np.abs(BUV.wavelength.to(u.AA).value - BUV.xmax).argmin()\n",
    "\n",
    "# plt.scatter(BUV.xrange[300:400], BUV.yinterp[300:400], color = 'blue')\n",
    "# plt.scatter(BUV.wavelength[300:400], BUV.y[300:400], color = 'red')\n",
    "\n",
    "\n",
    "\n"
   ]
  },
  {
   "cell_type": "code",
   "execution_count": 219,
   "metadata": {},
   "outputs": [
    {
     "name": "stdout",
     "output_type": "stream",
     "text": [
      "[ 293.98640288  307.96320907  318.13124675  324.19370432  327.70838399\n",
      "  330.40489648  334.11780434  336.69487048  343.07424115  350.71909774\n",
      "  357.0923497   362.41171243  367.02933031  369.87533927  372.44139173\n",
      "  375.00839599  377.70503539  381.4188739   384.88033738  388.46314477\n",
      "  392.30957957  395.63897553  399.34993748  403.18949817  407.03032793\n",
      "  412.77848003  419.78952251  428.06888213  438.24858826  450.33282277\n",
      "  463.68286009  477.66358886  491.00424663  508.14668153  522.11379667\n",
      "  536.07802758  550.04133552  564.00360514  577.96702845  591.92952881\n",
      "  605.89202917  619.71268891  633.81829895  647.78322207  661.74653002\n",
      "  675.70672298  689.66333948  703.61522583  717.56226665  731.50907673\n",
      "  745.45381016  759.39531323  773.33693168  787.27358923  800.5724601\n",
      "  811.96702747  822.09179863  831.58235381  840.43826243  848.65827808\n",
      "  856.24433459  863.82954505  871.41517854  878.99996598  885.95170075\n",
      "  892.90237796  899.85203992  906.16793007  912.48331259  918.79818749\n",
      "  925.11433145  931.43047542  937.74864989  944.06606292  951.01674013\n",
      "  958.60068153  966.18652652  974.405817    983.26027525  992.74983331\n",
      " 1003.50758663 1015.53443114 1023.76597717] nm\n"
     ]
    },
    {
     "data": {
      "image/png": "[encoded data removed]",
      "text/plain": [
       "<Figure size 1200x600 with 1 Axes>"
      ]
     },
     "metadata": {},
     "output_type": "display_data"
    }
   ],
   "source": [
    "fig, ax = plt.subplots(figsize = (12,6))\n",
    "BUV_file = \"dqe/BUV_extracted.csv\"\n",
    "BUV = DQE(BUV_file)\n",
    "BUV.color = 'red'\n",
    "BUV.label = 'BUV'\n",
    "BUV.ls = '-'\n",
    "BUV.xmin = 3000\n",
    "BUV.xmax = 10000\n",
    "BUV.load_values()\n",
    "BUV.plot()\n",
    "\n",
    "optical_file = \"dqe/optical_extracted.csv\"\n",
    "optical = DQE(optical_file)\n",
    "optical.color = 'blue'\n",
    "optical.label = 'optical'\n",
    "optical.ls = '-'\n",
    "optical.xmin = 3010\n",
    "optical.xmax = 10000\n",
    "optical.load_values()\n",
    "optical.plot()\n",
    "\n",
    "rect = patches.Rectangle((3000,0),1000,100, linewidth = 1, edgecolor='none', facecolor='yellow', alpha = 1)\n",
    "ax.add_patch(rect)\n",
    "\n",
    "ax.set_xlabel(\"Wavelength(\\u00C5)\")\n",
    "ax.set_ylabel(\"Transmission(%)\")\n",
    "ax.legend()\n",
    "fig.savefig('plots/QE.png')\n",
    "\n",
    "print(optical.wavelength)"
   ]
  },
  {
   "cell_type": "code",
   "execution_count": 182,
   "metadata": {},
   "outputs": [
    {
     "data": {
      "text/plain": [
       "array([ 1.71227553,  2.2856649 ,  2.85905426,  3.45323112,  4.16867157,\n",
       "        5.02071869,  7.67887678, 11.11977016, 15.82423495, 21.04536481,\n",
       "       23.54557741, 25.42689281, 27.37151129, 29.50876529, 32.28319838,\n",
       "       35.09509421, 40.59630139, 45.96299862, 50.38645019, 54.72886153,\n",
       "       59.23793801, 63.39830512, 67.30768138, 71.36438197, 74.49402353,\n",
       "       76.82190561, 78.79210005, 80.51457295, 81.94304097, 83.19451378,\n",
       "       84.3580821 , 85.4485019 , 86.521814  , 87.39446141, 88.26710882,\n",
       "       89.08047077, 89.78510602, 90.48974126, 91.11429994, 91.65826836,\n",
       "       92.20223679, 92.53820782, 92.81366179, 93.08911576, 93.3572549 ,\n",
       "       93.6060737 , 93.85489249, 94.06281847, 94.21495189, 94.36708532,\n",
       "       94.50152117, 94.62270684, 94.74389251, 94.83997399, 94.92633855,\n",
       "       95.0127031 , 95.13273758, 95.25779194, 95.38224821, 95.47635123,\n",
       "       95.57045426, 95.66455728, 95.75866031, 95.85276333, 95.93819462,\n",
       "       96.00501444, 96.07183426, 96.1863475 , 96.34931167, 96.51227584,\n",
       "       96.68286572, 96.85820728, 97.03354883, 97.16746844, 97.28865411,\n",
       "       97.40983978, 97.43553602, 97.4522428 , 97.46130593, 97.35799796,\n",
       "       97.25468999, 97.11737   , 96.85523833, 96.59310667, 96.27145595,\n",
       "       95.84651514, 95.42157433, 94.99261617, 94.55991973, 94.12722328,\n",
       "       93.64772093, 93.14521219, 92.64270345, 92.0507485 , 91.43960152,\n",
       "       90.82845454, 90.22109866, 89.61383248, 88.98479687, 88.2105981 ,\n",
       "       87.43639932, 86.6189558 , 85.69299117, 84.76702654, 83.73630483,\n",
       "       82.6264581 , 81.47450405, 80.19155718, 78.89625761, 77.54315167,\n",
       "       76.16548216, 74.70932749, 73.17133361, 71.52496434, 69.80171262,\n",
       "       68.04245045, 66.24140294, 64.45751362, 62.6771446 , 60.84987524,\n",
       "       58.98541696, 57.08153468, 55.11595623, 53.10100546, 51.02243213,\n",
       "       48.83997246, 46.62007464, 44.37291364, 42.15598073, 39.99281307,\n",
       "       37.82964542, 35.79535013, 33.75151923, 31.71095067, 29.74537222,\n",
       "       27.85305536, 26.00930975, 24.24758954, 22.54172987, 20.86594974,\n",
       "       19.33283962, 17.8350177 , 16.43255658, 15.07251772, 13.79760225,\n",
       "       12.54115577, 11.40186151, 10.26256725,  9.22624379,  8.23823368])"
      ]
     },
     "execution_count": 182,
     "metadata": {},
     "output_type": "execute_result"
    }
   ],
   "source": [
    "from scipy.interpolate import make_interp_spline\n",
    "optical_file = \"dqe/optical_extracted.csv\"\n",
    "optical = DQE(optical_file)\n",
    "optical.load_values()\n",
    "b = make_interp_spline(optical.wavelength, optical.y)\n",
    "x = optical.wavelength.value\n",
    "y = optical.y\n",
    "xrange = np.linspace(np.min(x), np.max(x), 150)\n",
    "yinterp = np.interp(xrange, x, y)\n",
    "\n"
   ]
  },
  {
   "cell_type": "code",
   "execution_count": null,
   "metadata": {},
   "outputs": [],
   "source": [
    "## spline interpolation vs polynominal interpolation?\n"
   ]
  },
  {
   "cell_type": "markdown",
   "metadata": {},
   "source": [
    "class Atmo\n",
    "class Target\n",
    "class Coating\n",
    "class Filters\n",
    "class DQE\n",
    "\n",
    "class Atmo(object):\n",
    "\n",
    "    def __init__(self,filename):\n",
    "        self.filename = filename\n",
    "\n",
    "    def load_data(self):\n",
    "        self.data = pd.read_csv(self.filename, comment='#', header=None, delim_whitespace=True)\n",
    "        self.data.columns = ['x', 'y']\n",
    "        self.wavelength = self.df[\"x\"].values * u.nm\n",
    "        self.y = self.df[\"y\"].values\n",
    "\n",
    "    def create_interpolator(self, method=\"linear\"):\n",
    "        self.interpolation_function = sp.interpolate.interp1d(x=self.x, y=self.y, method=method)\n",
    "\n",
    "    def interpolate(self, wavelengths):\n",
    "        return self.interpolation_function(wavelengths)\n",
    "\n"
   ]
  },
  {
   "cell_type": "markdown",
   "metadata": {},
   "source": [
    "preprossing (generate transmission files for each filter, calc_transmission)\n",
    "(import data from preprocessing) -> processing (classes) \n",
    "post-processing (plots)"
   ]
  },
  {
   "cell_type": "code",
   "execution_count": 43,
   "metadata": {},
   "outputs": [
    {
     "data": {
      "text/latex": [
       "$3980 \\; \\mathrm{\\mathring{A}}$"
      ],
      "text/plain": [
       "<Quantity 3980. Angstrom>"
      ]
     },
     "execution_count": 43,
     "metadata": {},
     "output_type": "execute_result"
    },
    {
     "data": {
      "image/png": "[encoded data removed]",
      "text/plain": [
       "<Figure size 640x480 with 1 Axes>"
      ]
     },
     "metadata": {},
     "output_type": "display_data"
    }
   ],
   "source": [
    "import pandas as pd\n",
    "import scipy as sp\n",
    "import astropy.units as u\n",
    "import numpy as np\n",
    "import matplotlib.pyplot as plt\n",
    "\n",
    "class Atmo(object):\n",
    "    def __init__(self,filename):\n",
    "        self.filename = filename\n",
    "        self.load_data()\n",
    "        self.create_interpolator(method = \"linear\")\n",
    "\n",
    "    def load_data(self):\n",
    "        with open(self.filename, 'r') as file:\n",
    "            file.readline()\n",
    "            file.readline()\n",
    "            self.data = np.loadtxt(file, dtype=float)\n",
    "        self.data[:, 1] = 10 ** (-0.4 * self.data[:, 1])\n",
    "        self.wavelength = self.data[:, 0][:40] * u.AA\n",
    "        self.y = self.data[:, 1][:40]\n",
    "\n",
    "    def create_interpolator(self, method):\n",
    "        self.interpolation_function = sp.interpolate.interp1d(x=self.wavelength, y=self.y, kind=method)\n",
    "\n",
    "    def interpolate(self, wavelengths):\n",
    "        return self.interpolation_function(wavelengths)\n",
    "    \n",
    "    \n",
    "apo = Atmo(\"/Users/jacobvider/Documents/research/hamden/superlotis/throughput/extinction_sites/apo.dat\")\n",
    "wv = np.linspace(start=apo.wavelength.min(), stop=apo.wavelength.max(), num=10000)\n",
    "apo_interp = apo.interpolate(wv)\n",
    "\n",
    "plt.plot(wv, apo_interp)\n",
    "# atmo_apo.interpolate(wv)"
   ]
  },
  {
   "cell_type": "code",
   "execution_count": 34,
   "metadata": {},
   "outputs": [
    {
     "data": {
      "text/plain": [
       "array([3005.        , 3005.39953995, 3005.79907991, ..., 6999.20092009,\n",
       "       6999.60046005, 7000.        ])"
      ]
     },
     "execution_count": 34,
     "metadata": {},
     "output_type": "execute_result"
    }
   ],
   "source": [
    "np.linspace(start=3005, stop=7000, num=10000)"
   ]
  },
  {
   "cell_type": "code",
   "execution_count": 28,
   "metadata": {},
   "outputs": [
    {
     "data": {
      "text/plain": [
       "array([[ 1.76347333e+00,  1.76347333e+00,  1.76347333e+00, ...,\n",
       "         1.76347333e+00,  1.76347333e+00,  1.76347333e+00],\n",
       "       [ 1.75749231e+00,  1.75749877e+00,  1.75750523e+00, ...,\n",
       "         1.75255308e+00,  1.75254619e+00,  1.75253929e+00],\n",
       "       [ 1.75151128e+00,  1.75152421e+00,  1.75153713e+00, ...,\n",
       "         1.71244673e+00,  1.71244831e+00,  1.71244988e+00],\n",
       "       ...,\n",
       "       [-7.21376832e-03, -4.20375132e-02,  4.98557436e-02, ...,\n",
       "         1.67292173e-02,  1.71109536e-02,  1.64546408e-02],\n",
       "       [-1.01967916e-03, -5.18977066e-02,  4.73803718e-02, ...,\n",
       "         1.68333152e-02,  1.59920178e-02,  1.62453226e-02],\n",
       "       [ 5.17441000e-03, -6.17579000e-02,  4.49050000e-02, ...,\n",
       "         1.55296000e-02,  1.68326000e-02,  1.68832000e-02]])"
      ]
     },
     "execution_count": 28,
     "metadata": {},
     "output_type": "execute_result"
    },
    {
     "data": {
      "image/png": "[encoded data removed]",
      "text/plain": [
       "<Figure size 640x480 with 1 Axes>"
      ]
     },
     "metadata": {},
     "output_type": "display_data"
    }
   ],
   "source": [
    "class SN1a:\n",
    "    def __init__(self,filename):\n",
    "        self.filename = filename\n",
    "        self.load_data()\n",
    "        self.create_interpolator(method = \"linear\")\n",
    "\n",
    "    def load_data(self):\n",
    "        spec = np.loadtxt(self.filename, skiprows=1)\n",
    "        self.wavelength = spec[:, 0]\n",
    "        self.y = spec[:, 1]*10**14\n",
    "\n",
    "    def create_interpolator(self, method):\n",
    "        self.interpolation_function = sp.interpolate.interp1d(x=self.wavelength, y=self.y, kind=method)\n",
    "\n",
    "    def interpolate(self, wavelengths):\n",
    "        return self.interpolation_function(wavelengths)\n",
    "    \n",
    "    def set_xindex(self, xmin, xmax):\n",
    "        self.xmin_index = np.abs(self.wavelength - xmin).argmin()\n",
    "        self.xmax_index = np.abs(self.wavelength - xmax).argmin()\n",
    "        return self.xmin_index, self.xmax_index\n",
    "    \n",
    "\n",
    "sn1992a = SN1a(\"/Users/jacobvider/Documents/research/hamden/superlotis/throughput/sn1a_targets/foley-sn2011iv-max (1).flm\")\n",
    "wv = np.linspace(3005,sn1992a.wavelength, 10000)\n",
    "interp1922a = sn1992a.interpolate(wv)\n",
    "\n",
    "xmin, xmax = sn1992a.set_xindex(3000, 10000)\n",
    "\n",
    "plt.plot(sn1992a.wavelength[xmin:xmax], sn1992a.y[xmin:xmax])"
   ]
  },
  {
   "cell_type": "code",
   "execution_count": null,
   "metadata": {},
   "outputs": [],
   "source": [
    "class Filters:\n",
    "    def __init__(self, filename):\n",
    "        self.filename = filename\n",
    "\n",
    "    def \n",
    "    pd.read_csv(self.filename, skiprows = 14, sep = '\\t', header = None)"
   ]
  },
  {
   "cell_type": "code",
   "execution_count": null,
   "metadata": {},
   "outputs": [],
   "source": [
    "import pandas as pd\n",
    "pd.read_csv('/Users/jacobvider/Documents/research/hamden/superlotis/instrument_throughput/filter_transmission_curves (1)/oceanview_data (1)/backup_data (1)/oceanview-data (2)/*.txt', skiprows = 14, sep = '\\t', header = None)"
   ]
  },
  {
   "cell_type": "code",
   "execution_count": 261,
   "metadata": {},
   "outputs": [
    {
     "data": {
      "text/plain": [
       "array([0.09920007, 0.13080008, 0.16730002, 0.20750091, 0.24699946,\n",
       "       0.28619893, 0.34440068, 0.39200174, 0.42999955, 0.4585007 ,\n",
       "       0.48169928, 0.50069817, 0.51890039, 0.53510129, 0.54860025,\n",
       "       0.55809997, 0.56690201, 0.57270108, 0.58119785, 0.5958981 ,\n",
       "       0.61120092, 0.62209971, 0.62940183, 0.63499748, 0.64060157,\n",
       "       0.64760173, 0.65529975, 0.66310148, 0.67019935, 0.67630095,\n",
       "       0.68149708, 0.68629684, 0.69120043, 0.6964982 , 0.70230215,\n",
       "       0.70880048, 0.7158005 , 0.72350244, 0.73150281, 0.7392988 ,\n",
       "       0.74640063, 0.75259963, 0.75810262, 0.76309745, 0.76799784,\n",
       "       0.77270194, 0.77739904, 0.78200225, 0.78619812, 0.79019813,\n",
       "       0.79399908, 0.7975979 , 0.80130158, 0.80489643, 0.80870104,\n",
       "       0.81239642, 0.81610117, 0.81989833, 0.82350075, 0.82710377,\n",
       "       0.83050069, 0.83369654, 0.83679678, 0.8396997 , 0.8424963 ,\n",
       "       0.8453022 , 0.84800029, 0.85050329, 0.85280159, 0.85490134,\n",
       "       0.85680107, 0.85869711, 0.86059734, 0.86250178, 0.86429898,\n",
       "       0.86609992, 0.86780071, 0.86929664, 0.87060268, 0.87190265,\n",
       "       0.87300353, 0.87400114, 0.87499989, 0.87590297, 0.87679891,\n",
       "       0.87770384, 0.87849643, 0.87940312, 0.88030263, 0.88130047,\n",
       "       0.88220192, 0.88320191, 0.88420303, 0.88519714, 0.88610258,\n",
       "       0.88690275, 0.88770364, 0.88849707, 0.88910285, 0.88970084,\n",
       "       0.89020084, 0.89070112, 0.89110319, 0.89139871, 0.89170253,\n",
       "       0.89199825, 0.89230227, 0.89259819, 0.89290242, 0.89329726,\n",
       "       0.89379928, 0.89449929, 0.89519985, 0.89619806, 0.89729655,\n",
       "       0.89860328, 0.90010257, 0.90180367, 0.90369941, 0.90569923,\n",
       "       0.90790415, 0.91029886, 0.91280077, 0.91530113, 0.91769845,\n",
       "       0.91989869, 0.92200229, 0.92379584, 0.92230805, 0.9272909 ,\n",
       "       0.9313223 , 0.93219764, 0.9326528 , 0.93335745, 0.9342175 ,\n",
       "       0.93508696, 0.9359486 , 0.93656948, 0.93830493, 0.94202841,\n",
       "       0.94442614, 0.94576666, 0.94726611, 0.94937108, 0.95026339,\n",
       "       0.95099887, 0.95174368, 0.95243643, 0.95267331, 0.95331406,\n",
       "       0.95292781, 0.95263822, 0.95199792, 0.95135806, 0.95071862,\n",
       "       0.95144568, 0.952261  , 0.95406069, 0.9567005 , 0.95640095,\n",
       "       0.95649785, 0.95690318, 0.9575997 , 0.95840264, 0.95919742,\n",
       "       0.95979835, 0.96019624, 0.96030237, 0.95990444, 0.95930344,\n",
       "       0.95970112, 0.95879994, 0.95789962, 0.95720289, 0.95649785,\n",
       "       0.95589898, 0.95530049, 0.95489584, 0.95450015, 0.95409584,\n",
       "       0.95390253, 0.95370048, 0.95349847, 0.95340187, 0.95340187,\n",
       "       0.95340187, 0.95349847, 0.95360386, 0.95370048, 0.95390253,\n",
       "       0.95409584, 0.95440345, 0.95470237, 0.95509814, 0.95539728,\n",
       "       0.95580214, 0.95630406, 0.9567005 , 0.95720289, 0.95769672,\n",
       "       0.95819963, 0.95870281, 0.95930344, 0.95979835, 0.96039967,\n",
       "       0.960904  , 0.96149715, 0.96209952, 0.96259588, 0.96319895,\n",
       "       0.96380239, 0.96429963, 0.96479712, 0.96540157, 0.96589963,\n",
       "       0.96639795, 0.96689653, 0.96729735, 0.96769835, 0.9681976 ])"
      ]
     },
     "execution_count": 261,
     "metadata": {},
     "output_type": "execute_result"
    }
   ],
   "source": [
    "with open('/Users/jacobvider/Documents/research/hamden/superlotis/throughput/extinction_sites/apo.dat', 'r') as file:\n",
    "    # Skip the first two lines\n",
    "    file.readline()\n",
    "    file.readline()\n",
    "    # Load the data from the file\n",
    "    atmo = np.loadtxt(file, dtype=float)\n",
    "\n",
    "# Assuming 'apo' is defined elsewhere in your code\n",
    "# Modify the 'atmo' array as needed\n",
    "atmo[:, 1] = 10 ** (-0.4 * atmo[:, 1])\n",
    "wv_apo = atmo[:, 0][:40]\n",
    "trans_apo = atmo[:, 1][:40]\n",
    "atmo[:, 1]\n"
   ]
  },
  {
   "cell_type": "markdown",
   "metadata": {},
   "source": [
    "class Atmo:\n",
    "    def __init__:\n",
    "        self.filename = None\n",
    "\n",
    "    def load_data(self):\n",
    "        df = pd.read_csv(self.filename, comment='#', header=None, delim_whitespace=True)\n",
    "        \n"
   ]
  },
  {
   "cell_type": "markdown",
   "metadata": {},
   "source": [
    "class Transmission(filename, )\n",
    "\n",
    "def __init__:\n",
    "#variables\n",
    "\n",
    "def interpolator:\n",
    "\n",
    "\n",
    "class Spectrum\n"
   ]
  },
  {
   "cell_type": "markdown",
   "metadata": {},
   "source": [
    "class ExtractData\n",
    "    def extract_csv\n",
    "\n",
    "    def extract_flm\n",
    "\n",
    "    def \n",
    "\n",
    "class Interpolate\n",
    "\n",
    "class PlotData\n",
    "\n"
   ]
  }
 ],
 "metadata": {
  "kernelspec": {
   "display_name": "base",
   "language": "python",
   "name": "python3"
  },
  "language_info": {
   "codemirror_mode": {
    "name": "ipython",
    "version": 3
   },
   "file_extension": ".py",
   "mimetype": "text/x-python",
   "name": "python",
   "nbconvert_exporter": "python",
   "pygments_lexer": "ipython3",
   "version": "3.11.5"
  }
 },
 "nbformat": 4,
 "nbformat_minor": 2
}
